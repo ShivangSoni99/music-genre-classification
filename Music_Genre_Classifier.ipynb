{
  "nbformat": 4,
  "nbformat_minor": 0,
  "metadata": {
    "colab": {
      "provenance": []
    },
    "kernelspec": {
      "name": "python3",
      "display_name": "Python 3"
    },
    "language_info": {
      "name": "python"
    }
  },
  "cells": [
    {
      "cell_type": "markdown",
      "source": [
        "# **Music Genre Classifier**\n",
        "\n",
        "---\n",
        "\n",
        "\n",
        "\n"
      ],
      "metadata": {
        "id": "_ZG13wLXJpUc"
      }
    },
    {
      "cell_type": "markdown",
      "source": [
        "# Installing required libraries"
      ],
      "metadata": {
        "id": "GcCRJo-pJyeR"
      }
    },
    {
      "cell_type": "code",
      "source": [
        "!pip install scipy\n",
        "!pip install python_speech_features"
      ],
      "metadata": {
        "colab": {
          "base_uri": "https://localhost:8080/"
        },
        "id": "a25KffgLJ6x8",
        "outputId": "bebd3792-f5e1-452f-f8dd-7e2a43d6f125"
      },
      "execution_count": 1,
      "outputs": [
        {
          "output_type": "stream",
          "name": "stdout",
          "text": [
            "Looking in indexes: https://pypi.org/simple, https://us-python.pkg.dev/colab-wheels/public/simple/\n",
            "Requirement already satisfied: scipy in /usr/local/lib/python3.7/dist-packages (1.7.3)\n",
            "Requirement already satisfied: numpy<1.23.0,>=1.16.5 in /usr/local/lib/python3.7/dist-packages (from scipy) (1.21.6)\n",
            "Looking in indexes: https://pypi.org/simple, https://us-python.pkg.dev/colab-wheels/public/simple/\n",
            "Collecting python_speech_features\n",
            "  Downloading python_speech_features-0.6.tar.gz (5.6 kB)\n",
            "Building wheels for collected packages: python-speech-features\n",
            "  Building wheel for python-speech-features (setup.py) ... \u001b[?25l\u001b[?25hdone\n",
            "  Created wheel for python-speech-features: filename=python_speech_features-0.6-py3-none-any.whl size=5889 sha256=a5d6e928753be540d8c6221db047031e46d1e07a0de5cc46c323eda13341a787\n",
            "  Stored in directory: /root/.cache/pip/wheels/b0/0e/94/28cd6afa3cd5998a63eef99fe31777acd7d758f59cf24839eb\n",
            "Successfully built python-speech-features\n",
            "Installing collected packages: python-speech-features\n",
            "Successfully installed python-speech-features-0.6\n"
          ]
        }
      ]
    },
    {
      "cell_type": "markdown",
      "source": [
        "# Importing libraries"
      ],
      "metadata": {
        "id": "cD1HsTL0YpE3"
      }
    },
    {
      "cell_type": "code",
      "source": [
        "import pandas as pd\n",
        "import numpy as np\n",
        "import scipy.io.wavfile as wav\n",
        "from tempfile import TemporaryFile\n",
        "import librosa as lib\n",
        "import os as sys\n",
        "import math\n",
        "import random\n",
        "import operator\n",
        "import pickle as p\n"
      ],
      "metadata": {
        "id": "pObEnjd1KVOf"
      },
      "execution_count": 2,
      "outputs": []
    },
    {
      "cell_type": "markdown",
      "source": [
        "# Downloading GZTAN Genre Collection Dataset from Kaggle"
      ],
      "metadata": {
        "id": "CaQikJAjnssa"
      }
    },
    {
      "cell_type": "code",
      "source": [
        "! pip install -q kaggle\n",
        "from google.colab import files\n",
        "sys.mkdir('/root/.kaggle')"
      ],
      "metadata": {
        "id": "Y_pcvUd3n1nh"
      },
      "execution_count": 3,
      "outputs": []
    },
    {
      "cell_type": "code",
      "source": [
        "files.upload()\n",
        "#copy\n",
        "!cp kaggle.json /root/.kaggle/"
      ],
      "metadata": {
        "colab": {
          "base_uri": "https://localhost:8080/",
          "height": 73
        },
        "id": "lZMJMkrkK7o3",
        "outputId": "173b9ca6-ee33-42a9-de2a-d0f2e4011af6"
      },
      "execution_count": 4,
      "outputs": [
        {
          "output_type": "display_data",
          "data": {
            "text/plain": [
              "<IPython.core.display.HTML object>"
            ],
            "text/html": [
              "\n",
              "     <input type=\"file\" id=\"files-072d3376-b691-4ae3-952c-4ce162dc3a14\" name=\"files[]\" multiple disabled\n",
              "        style=\"border:none\" />\n",
              "     <output id=\"result-072d3376-b691-4ae3-952c-4ce162dc3a14\">\n",
              "      Upload widget is only available when the cell has been executed in the\n",
              "      current browser session. Please rerun this cell to enable.\n",
              "      </output>\n",
              "      <script>// Copyright 2017 Google LLC\n",
              "//\n",
              "// Licensed under the Apache License, Version 2.0 (the \"License\");\n",
              "// you may not use this file except in compliance with the License.\n",
              "// You may obtain a copy of the License at\n",
              "//\n",
              "//      http://www.apache.org/licenses/LICENSE-2.0\n",
              "//\n",
              "// Unless required by applicable law or agreed to in writing, software\n",
              "// distributed under the License is distributed on an \"AS IS\" BASIS,\n",
              "// WITHOUT WARRANTIES OR CONDITIONS OF ANY KIND, either express or implied.\n",
              "// See the License for the specific language governing permissions and\n",
              "// limitations under the License.\n",
              "\n",
              "/**\n",
              " * @fileoverview Helpers for google.colab Python module.\n",
              " */\n",
              "(function(scope) {\n",
              "function span(text, styleAttributes = {}) {\n",
              "  const element = document.createElement('span');\n",
              "  element.textContent = text;\n",
              "  for (const key of Object.keys(styleAttributes)) {\n",
              "    element.style[key] = styleAttributes[key];\n",
              "  }\n",
              "  return element;\n",
              "}\n",
              "\n",
              "// Max number of bytes which will be uploaded at a time.\n",
              "const MAX_PAYLOAD_SIZE = 100 * 1024;\n",
              "\n",
              "function _uploadFiles(inputId, outputId) {\n",
              "  const steps = uploadFilesStep(inputId, outputId);\n",
              "  const outputElement = document.getElementById(outputId);\n",
              "  // Cache steps on the outputElement to make it available for the next call\n",
              "  // to uploadFilesContinue from Python.\n",
              "  outputElement.steps = steps;\n",
              "\n",
              "  return _uploadFilesContinue(outputId);\n",
              "}\n",
              "\n",
              "// This is roughly an async generator (not supported in the browser yet),\n",
              "// where there are multiple asynchronous steps and the Python side is going\n",
              "// to poll for completion of each step.\n",
              "// This uses a Promise to block the python side on completion of each step,\n",
              "// then passes the result of the previous step as the input to the next step.\n",
              "function _uploadFilesContinue(outputId) {\n",
              "  const outputElement = document.getElementById(outputId);\n",
              "  const steps = outputElement.steps;\n",
              "\n",
              "  const next = steps.next(outputElement.lastPromiseValue);\n",
              "  return Promise.resolve(next.value.promise).then((value) => {\n",
              "    // Cache the last promise value to make it available to the next\n",
              "    // step of the generator.\n",
              "    outputElement.lastPromiseValue = value;\n",
              "    return next.value.response;\n",
              "  });\n",
              "}\n",
              "\n",
              "/**\n",
              " * Generator function which is called between each async step of the upload\n",
              " * process.\n",
              " * @param {string} inputId Element ID of the input file picker element.\n",
              " * @param {string} outputId Element ID of the output display.\n",
              " * @return {!Iterable<!Object>} Iterable of next steps.\n",
              " */\n",
              "function* uploadFilesStep(inputId, outputId) {\n",
              "  const inputElement = document.getElementById(inputId);\n",
              "  inputElement.disabled = false;\n",
              "\n",
              "  const outputElement = document.getElementById(outputId);\n",
              "  outputElement.innerHTML = '';\n",
              "\n",
              "  const pickedPromise = new Promise((resolve) => {\n",
              "    inputElement.addEventListener('change', (e) => {\n",
              "      resolve(e.target.files);\n",
              "    });\n",
              "  });\n",
              "\n",
              "  const cancel = document.createElement('button');\n",
              "  inputElement.parentElement.appendChild(cancel);\n",
              "  cancel.textContent = 'Cancel upload';\n",
              "  const cancelPromise = new Promise((resolve) => {\n",
              "    cancel.onclick = () => {\n",
              "      resolve(null);\n",
              "    };\n",
              "  });\n",
              "\n",
              "  // Wait for the user to pick the files.\n",
              "  const files = yield {\n",
              "    promise: Promise.race([pickedPromise, cancelPromise]),\n",
              "    response: {\n",
              "      action: 'starting',\n",
              "    }\n",
              "  };\n",
              "\n",
              "  cancel.remove();\n",
              "\n",
              "  // Disable the input element since further picks are not allowed.\n",
              "  inputElement.disabled = true;\n",
              "\n",
              "  if (!files) {\n",
              "    return {\n",
              "      response: {\n",
              "        action: 'complete',\n",
              "      }\n",
              "    };\n",
              "  }\n",
              "\n",
              "  for (const file of files) {\n",
              "    const li = document.createElement('li');\n",
              "    li.append(span(file.name, {fontWeight: 'bold'}));\n",
              "    li.append(span(\n",
              "        `(${file.type || 'n/a'}) - ${file.size} bytes, ` +\n",
              "        `last modified: ${\n",
              "            file.lastModifiedDate ? file.lastModifiedDate.toLocaleDateString() :\n",
              "                                    'n/a'} - `));\n",
              "    const percent = span('0% done');\n",
              "    li.appendChild(percent);\n",
              "\n",
              "    outputElement.appendChild(li);\n",
              "\n",
              "    const fileDataPromise = new Promise((resolve) => {\n",
              "      const reader = new FileReader();\n",
              "      reader.onload = (e) => {\n",
              "        resolve(e.target.result);\n",
              "      };\n",
              "      reader.readAsArrayBuffer(file);\n",
              "    });\n",
              "    // Wait for the data to be ready.\n",
              "    let fileData = yield {\n",
              "      promise: fileDataPromise,\n",
              "      response: {\n",
              "        action: 'continue',\n",
              "      }\n",
              "    };\n",
              "\n",
              "    // Use a chunked sending to avoid message size limits. See b/62115660.\n",
              "    let position = 0;\n",
              "    do {\n",
              "      const length = Math.min(fileData.byteLength - position, MAX_PAYLOAD_SIZE);\n",
              "      const chunk = new Uint8Array(fileData, position, length);\n",
              "      position += length;\n",
              "\n",
              "      const base64 = btoa(String.fromCharCode.apply(null, chunk));\n",
              "      yield {\n",
              "        response: {\n",
              "          action: 'append',\n",
              "          file: file.name,\n",
              "          data: base64,\n",
              "        },\n",
              "      };\n",
              "\n",
              "      let percentDone = fileData.byteLength === 0 ?\n",
              "          100 :\n",
              "          Math.round((position / fileData.byteLength) * 100);\n",
              "      percent.textContent = `${percentDone}% done`;\n",
              "\n",
              "    } while (position < fileData.byteLength);\n",
              "  }\n",
              "\n",
              "  // All done.\n",
              "  yield {\n",
              "    response: {\n",
              "      action: 'complete',\n",
              "    }\n",
              "  };\n",
              "}\n",
              "\n",
              "scope.google = scope.google || {};\n",
              "scope.google.colab = scope.google.colab || {};\n",
              "scope.google.colab._files = {\n",
              "  _uploadFiles,\n",
              "  _uploadFilesContinue,\n",
              "};\n",
              "})(self);\n",
              "</script> "
            ]
          },
          "metadata": {}
        },
        {
          "output_type": "stream",
          "name": "stdout",
          "text": [
            "Saving kaggle.json to kaggle.json\n"
          ]
        }
      ]
    },
    {
      "cell_type": "code",
      "source": [
        "# change the permissions of the file\n",
        "!chmod 600 /root/.kaggle/kaggle.json"
      ],
      "metadata": {
        "id": "fx7GJLQ0Ljoy"
      },
      "execution_count": 5,
      "outputs": []
    },
    {
      "cell_type": "code",
      "source": [
        "# download the dataset for a specific competition\n",
        "!kaggle datasets download -d carlthome/gtzan-genre-collection"
      ],
      "metadata": {
        "colab": {
          "base_uri": "https://localhost:8080/"
        },
        "id": "SpaNA6JCpw6X",
        "outputId": "0842e334-fe0f-4f5b-f6fd-200597159a37"
      },
      "execution_count": 6,
      "outputs": [
        {
          "output_type": "stream",
          "name": "stdout",
          "text": [
            "Downloading gtzan-genre-collection.zip to /content\n",
            " 99% 1.13G/1.14G [00:07<00:00, 170MB/s]\n",
            "100% 1.14G/1.14G [00:07<00:00, 156MB/s]\n"
          ]
        }
      ]
    },
    {
      "cell_type": "markdown",
      "source": [
        "# Extracting features from the audio files in the dataset"
      ],
      "metadata": {
        "id": "6mkWxiLAZOWL"
      }
    },
    {
      "cell_type": "code",
      "source": [
        "sys.mkdir('/content/Kaggle')\n",
        "#Unzip the file\n",
        "!unzip  /content/gtzan-genre-collection.zip -d /content/Kaggle/Dataset"
      ],
      "metadata": {
        "id": "7CACIa37Zx3h"
      },
      "execution_count": null,
      "outputs": []
    },
    {
      "cell_type": "code",
      "source": [
        "#num mfcc features\n",
        "num=1293"
      ],
      "metadata": {
        "id": "sca1PRBVGERr"
      },
      "execution_count": 205,
      "outputs": []
    },
    {
      "cell_type": "code",
      "source": [
        "dataset=open(\"/content/dataset.dat\",\"wb\")\n",
        "directory=\"/content/Kaggle/Dataset/genres\"\n",
        "i=0\n",
        "# Navigating throught folder of each genre\n",
        "out=[]\n",
        "for folder in sys.listdir(directory):\n",
        "  i+=1\n",
        "  #10 genres\n",
        "  if i==11:\n",
        "    break\n",
        "  for file in sys.listdir(directory+\"/\"+folder):\n",
        "    loc=directory+\"/\"+folder+\"/\"+file\n",
        "    sig, rate=lib.load(loc)\n",
        "    mfcc_features = lib.feature.mfcc(sig, sr=rate)\n",
        "    r=num\n",
        "    while (r<len(mfcc_features.transpose())):\n",
        "       vec=mfcc_features[:, (r-num):r]\n",
        "       vec=vec.flatten()\n",
        "       vec=np.append(vec, i)\n",
        "       out.append(vec)\n",
        "       r+=num\n",
        "#using pickle to write features to the .dat file\n",
        "p.dump(out,dataset)\n",
        "dataset.close()"
      ],
      "metadata": {
        "id": "mvqiXKCls1Nc"
      },
      "execution_count": 206,
      "outputs": []
    },
    {
      "cell_type": "markdown",
      "source": [
        "# Extracting feature vectors(X) and outputs(Y) from the dataset"
      ],
      "metadata": {
        "id": "MMP5lq5zjttR"
      }
    },
    {
      "cell_type": "code",
      "source": [
        "dataset=open(\"/content/dataset.dat\",\"rb\")\n",
        "convertedData=np.asarray(p.load(dataset))\n",
        "X=[]\n",
        "Y=[]\n",
        "for item in convertedData:\n",
        "    x=item[:-1]\n",
        "    y=item[-1]\n",
        "    X.append(x)\n",
        "    Y.append(y)\n",
        "dataset.close()"
      ],
      "metadata": {
        "id": "EFJJGRgOl3O2"
      },
      "execution_count": 207,
      "outputs": []
    },
    {
      "cell_type": "code",
      "source": [
        "lim=len(X)-1\n",
        "for c in range(0,lim):\n",
        "  if c<=lim:\n",
        "    temp=X[c]\n",
        "  else:\n",
        "    break\n",
        "  #Removing data samples with insufficient amount of features\n",
        "  if (len(temp)!=num):\n",
        "    X.pop(c)\n",
        "    Y.pop(c)\n",
        "    lim=-1"
      ],
      "metadata": {
        "id": "WT8WXCvU_mfJ"
      },
      "execution_count": 208,
      "outputs": []
    },
    {
      "cell_type": "markdown",
      "source": [
        "# Split the dataset into two categories: 70 percent for training and 30 percent for testing"
      ],
      "metadata": {
        "id": "fPzRd6mlj0l9"
      }
    },
    {
      "cell_type": "code",
      "source": [
        "from sklearn.model_selection import train_test_split\n",
        "x_train, x_test,y_train, y_test=train_test_split(X,Y,train_size=0.7, random_state=0)"
      ],
      "metadata": {
        "id": "RzNysOTIl4zY"
      },
      "execution_count": 270,
      "outputs": []
    },
    {
      "cell_type": "markdown",
      "source": [
        "# Fitting K-NN classifier to the training data (importing KNeighborsClassifier from the library Sklearn neighbors) "
      ],
      "metadata": {
        "id": "HYGefl4aj8NB"
      }
    },
    {
      "cell_type": "code",
      "source": [
        "#number of components\n",
        "comps=20\n",
        "from sklearn.neighbors import KNeighborsClassifier, NeighborhoodComponentsAnalysis\n",
        "from sklearn.preprocessing import StandardScaler\n",
        "from sklearn.discriminant_analysis import LinearDiscriminantAnalysis\n",
        "from sklearn.pipeline import make_pipeline\n",
        "#Dimensionaity reduction using Neighborhood Components Analysis\n",
        "nca = make_pipeline(StandardScaler(), NeighborhoodComponentsAnalysis(n_components=comps, random_state=0))\n",
        "nca.fit(x_train, y_train)\n",
        "x_dim_train=nca.transform(x_train)\n",
        "nca.fit(x_test, y_test)\n",
        "x_dim_test=nca.transform(x_test)"
      ],
      "metadata": {
        "id": "A2TWQB1r8xWB"
      },
      "execution_count": 329,
      "outputs": []
    },
    {
      "cell_type": "code",
      "source": [
        "#number of neighbours\n",
        "k=2\n",
        "classifier= KNeighborsClassifier(n_neighbors=k, metric='minkowski', p=2)  \n",
        "x_train=np.asarray(x_train)\n",
        "y_train=np.asarray(y_train)\n",
        "classifier.fit(x_dim_train, y_train)  "
      ],
      "metadata": {
        "colab": {
          "base_uri": "https://localhost:8080/"
        },
        "id": "GgUOxVDvMFa4",
        "outputId": "16961668-79bc-46f9-88ef-d1ed0e30cfaa"
      },
      "execution_count": 330,
      "outputs": [
        {
          "output_type": "execute_result",
          "data": {
            "text/plain": [
              "KNeighborsClassifier(n_neighbors=2)"
            ]
          },
          "metadata": {},
          "execution_count": 330
        }
      ]
    },
    {
      "cell_type": "markdown",
      "source": [
        "# Predict results"
      ],
      "metadata": {
        "id": "Gd5FZXV-kBfu"
      }
    },
    {
      "cell_type": "code",
      "source": [
        "#Checking on the training set\n",
        "y_predicted=classifier.predict(x_dim_train)\n",
        "res=y_predicted==y_train\n",
        "accuracy=res.sum()*100/len(res)\n",
        "print(\"Accuracy on the training dataset: \"+str(accuracy)+\" %\")"
      ],
      "metadata": {
        "id": "0l6EDbIEl9ID",
        "colab": {
          "base_uri": "https://localhost:8080/"
        },
        "outputId": "b02544f3-e013-4ced-9a8a-61e2d8c42f19"
      },
      "execution_count": 331,
      "outputs": [
        {
          "output_type": "stream",
          "name": "stdout",
          "text": [
            "Accuracy on the training dataset: 96.7741935483871 %\n"
          ]
        }
      ]
    },
    {
      "cell_type": "code",
      "source": [
        "#Checking on the test set\n",
        "model=classifier.fit(x_dim_test, y_test) \n",
        "y_predicted=classifier.predict(x_dim_test)\n",
        "res=y_predicted==y_test\n",
        "accuracy=res.sum()*100/len(res)\n",
        "print(\"Testing Accuracy: \"+str(accuracy)+\" %\")"
      ],
      "metadata": {
        "colab": {
          "base_uri": "https://localhost:8080/"
        },
        "id": "yvZ5cAaKJ_De",
        "outputId": "7719fc18-73b5-4d81-8c2d-2b06358ec69d"
      },
      "execution_count": 338,
      "outputs": [
        {
          "output_type": "stream",
          "name": "stdout",
          "text": [
            "Testing Accuracy: 71.42857142857143 %\n"
          ]
        }
      ]
    },
    {
      "cell_type": "markdown",
      "source": [
        "# Pickle the model"
      ],
      "metadata": {
        "id": "7KPgPs6qlGmp"
      }
    },
    {
      "cell_type": "code",
      "source": [
        "#Saving the model\n",
        "p.dump(model, open('/content/model.pkl', 'wb'))\n",
        "#Uncomment to load the model\n",
        "pickled_model = p.load(open('/content/model.pkl', 'rb'))\n",
        "y=pickled_model.predict(x_dim_test)"
      ],
      "metadata": {
        "id": "Lp4el7DSJnS8"
      },
      "execution_count": 339,
      "outputs": []
    }
  ]
}